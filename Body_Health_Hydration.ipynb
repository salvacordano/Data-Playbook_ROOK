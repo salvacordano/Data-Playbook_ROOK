{
 "cells": [
  {
   "cell_type": "markdown",
   "metadata": {},
   "source": [
    "# Hydration - Body Event - Body Health"
   ]
  },
  {
   "cell_type": "markdown",
   "metadata": {},
   "source": [
    "## Library"
   ]
  },
  {
   "cell_type": "code",
   "execution_count": 9,
   "metadata": {},
   "outputs": [],
   "source": [
    "import json\n",
    "import matplotlib.pyplot as plt\n",
    "import matplotlib.dates as mdates\n",
    "import pandas as pd\n",
    "import folium\n",
    "from shapely.geometry import LineString\n",
    "import geopandas as gpd\n",
    "from folium.plugins import PolyLineTextPath\n",
    "import branca.colormap as cm\n",
    "from datetime import datetime, timedelta"
   ]
  },
  {
   "cell_type": "code",
   "execution_count": 10,
   "metadata": {},
   "outputs": [],
   "source": [
    "# Importamos el Activity_Event_\n",
    "with open('data_sources/simulation/body_health/events/hydration.json') as file:\n",
    "    data = json.load(file)"
   ]
  },
  {
   "cell_type": "markdown",
   "metadata": {},
   "source": [
    "## Event"
   ]
  },
  {
   "cell_type": "code",
   "execution_count": 11,
   "metadata": {},
   "outputs": [
    {
     "name": "stdout",
     "output_type": "stream",
     "text": [
      "Event date: June 9, 2024 at 13:39\n",
      "\n",
      "20%\n",
      "2.4\n"
     ]
    }
   ],
   "source": [
    "# Extract hydration\n",
    "water_total_consumption = data['body_health']['events']['hydration_event']['hydration']['water_total_consumption_mL_int']\n",
    "hydration_amount_granular = data['body_health']['events']['hydration_event']['hydration']['hydration_amount_granular_data_array']\n",
    "hydration_level_granular = data['body_health']['events']['hydration_event']['hydration']['hydration_level_granular_data_array']\n",
    "original_date = data['body_health']['events']['hydration_event']['metadata']['datetime_string']\n",
    "\n",
    "\n",
    "def translate_date(date_str):\n",
    "    months = [\"January\", \"February\", \"March\", \"April\", \"May\", \"June\", \"July\", \"August\", \"September\", \"October\", \"November\", \"December\"]\n",
    "    dt = datetime.fromisoformat(date_str.replace(\"Z\", \"+00:00\"))\n",
    "    return f\"{months[dt.month - 1]} {dt.day}, {dt.year} at {dt.hour:02d}:{dt.minute:02d}\"\n",
    "translated_date = translate_date(original_date)\n",
    "print(f\"Event date: {translated_date}\\n\")\n",
    "\n",
    "# Def the total water value\n",
    "total_water_goal = 3000  # Subjective maximum value\n",
    "\n",
    "def generate_progress(current, maximum):\n",
    "    if current is None or maximum is None:\n",
    "        return \"Water Total: No values were obtained or it is null.\"\n",
    "    # progress percent\n",
    "    progress = current / maximum\n",
    "    # progress bar\n",
    "    progress = f\"{int(progress * 100)}%\"\n",
    "    return progress\n",
    "\n",
    "def generate_waterglass(current):\n",
    "    if current is None:\n",
    "        return \"Hydration: No values were obtained or it is null.\"\n",
    "    waterglass = current / 250\n",
    "    return waterglass\n",
    "\n",
    "# progress bar\n",
    "progress = generate_progress(water_total_consumption, total_water_goal)\n",
    "waterglass = generate_waterglass(water_total_consumption)\n",
    "\n",
    "print(progress)\n",
    "print(waterglass)"
   ]
  }
 ],
 "metadata": {
  "kernelspec": {
   "display_name": "Python 3",
   "language": "python",
   "name": "python3"
  },
  "language_info": {
   "codemirror_mode": {
    "name": "ipython",
    "version": 3
   },
   "file_extension": ".py",
   "mimetype": "text/x-python",
   "name": "python",
   "nbconvert_exporter": "python",
   "pygments_lexer": "ipython3",
   "version": "3.12.4"
  }
 },
 "nbformat": 4,
 "nbformat_minor": 2
}
