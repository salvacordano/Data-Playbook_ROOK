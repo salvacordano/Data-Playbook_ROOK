{
 "cells": [
  {
   "cell_type": "markdown",
   "metadata": {},
   "source": [
    "# Data Playbook"
   ]
  },
  {
   "cell_type": "markdown",
   "metadata": {},
   "source": [
    "## Library"
   ]
  },
  {
   "cell_type": "code",
   "execution_count": 20,
   "metadata": {},
   "outputs": [],
   "source": [
    "import json\n",
    "import matplotlib.pyplot as plt\n",
    "import matplotlib.dates as mdates\n",
    "import pandas as pd\n",
    "import folium\n",
    "from shapely.geometry import LineString\n",
    "import geopandas as gpd\n",
    "from folium.plugins import PolyLineTextPath\n",
    "import branca.colormap as cm\n",
    "from datetime import datetime, timedelta"
   ]
  },
  {
   "cell_type": "code",
   "execution_count": 21,
   "metadata": {},
   "outputs": [],
   "source": [
    "# Importamos el Activity_Event_\n",
    "with open('data_sources/simulation/body_health/summary/body_summary.json') as file:\n",
    "    body_summary_file = json.load(file)\n",
    "\n",
    "with open('data_sources/simulation/physical_health/summary/physical_summary.json') as file:\n",
    "    physical_summary_file = json.load(file)\n",
    "    \n",
    "with open('data_sources/simulation/physical_health/events/activity_event.json') as file:\n",
    "    physical_event_file = json.load(file)\n",
    "\n",
    "with open('data_sources/simulation/sleep_health/sleep_summary.json') as file:\n",
    "    sleep_summary_file = json.load(file)"
   ]
  },
  {
   "cell_type": "markdown",
   "metadata": {},
   "source": [
    "## Body Summary"
   ]
  },
  {
   "cell_type": "markdown",
   "metadata": {},
   "source": [
    "### Body Metrics"
   ]
  },
  {
   "cell_type": "code",
   "execution_count": 22,
   "metadata": {},
   "outputs": [
    {
     "name": "stdout",
     "output_type": "stream",
     "text": [
      "Weight: 66.0 kg.\n",
      "Height: 1.7 m.\n",
      "BMI: 22.0. Is Normal.\n",
      "Waist: No values ​​were obtained or it is null.\n",
      "Hip: No values ​​were obtained or it is null.\n"
     ]
    }
   ],
   "source": [
    "weight_kg = body_summary_file['body_health']['summary']['body_summary']['body_metrics']['weight_kg_float']\n",
    "height_cm = body_summary_file['body_health']['summary']['body_summary']['body_metrics']['height_cm_int']\n",
    "bmi = body_summary_file['body_health']['summary']['body_summary']['body_metrics']['bmi_float']\n",
    "waist_circumference = body_summary_file['body_health']['summary']['body_summary']['body_metrics']['waist_circumference_cm_int']\n",
    "hip_circumference = body_summary_file['body_health']['summary']['body_summary']['body_metrics']['hip_circumference_cm_int']\n",
    "\n",
    "\n",
    "# Check weight\n",
    "if weight_kg is None:\n",
    "    weight_result = \"Weight: No values ​​were obtained or it is null.\"\n",
    "\n",
    "else:\n",
    "    weight_result = f\"Weight: {weight_kg} kg.\"\n",
    "\n",
    "# Check height    \n",
    "if height_cm is None:\n",
    "    height_result = \"Height: No values ​​were obtained or it is null.\"\n",
    "\n",
    "else:\n",
    "    height_meters = round(height_cm/100, 2)\n",
    "    height_result = f\"Height: {height_meters} m.\"\n",
    "    \n",
    "# Check BMI    \n",
    "if bmi is None:\n",
    "    if weight_kg is not None and weight_kg > 0 and height_cm is not None and height_cm > 0:\n",
    "        height_meters = height_cm / 100\n",
    "        bmi = weight_kg / (height_meters ** 2)\n",
    "        if bmi < 18.5:\n",
    "            bmi_result = f\"BMI: {bmi:.2f}. Is Underweight.\"\n",
    "        elif bmi < 25:\n",
    "            bmi_result = f\"BMI: {bmi:.2f}. Is Normal.\"\n",
    "        elif bmi < 30:\n",
    "            bmi_result = f\"BMI: {bmi:.2f}. Is Overweight.\"\n",
    "        elif bmi < 35:\n",
    "            bmi_result = f\"BMI: {bmi:.2f}. Is Obese.\"\n",
    "        else:\n",
    "            bmi_result = f\"BMI: {bmi:.2f}. Is Extremelly Obese\"\n",
    "    else:\n",
    "        bmi_result = \"BMI: No values ​​were obtained or it is null.\"\n",
    "    \n",
    "\n",
    "else:\n",
    "    if bmi < 18.5:\n",
    "        bmi_result = f\"BMI: {bmi}. Is Underweight.\"\n",
    "    elif bmi < 25:\n",
    "        bmi_result = f\"BMI: {bmi}. Is Normal.\"\n",
    "    elif bmi < 30:\n",
    "        bmi_result = f\"BMI: {bmi}. Is Overweight.\"\n",
    "    elif bmi < 35:\n",
    "        bmi_result = f\"BMI: {bmi}. Is Obese.\"\n",
    "    else:\n",
    "        bmi_result = f\"BMI: {bmi}. Is \"\n",
    "    \n",
    "# Check Waist\n",
    "if waist_circumference is None:\n",
    "    waist_circumference_result = \"Waist: No values ​​were obtained or it is null.\"\n",
    "\n",
    "else:\n",
    "    waist_circumference_result = f\"Waist: {waist_circumference} cm.\"\n",
    "    \n",
    "# Check hip\n",
    "if hip_circumference is None:\n",
    "    hip_circumference_result = \"Hip: No values ​​were obtained or it is null.\"\n",
    "\n",
    "else:\n",
    "    hip_circumference_result = f\"Hip: {hip_circumference} cm.\"\n",
    "    \n",
    "\n",
    "# Print\n",
    "print(weight_result)\n",
    "print(height_result)\n",
    "print(bmi_result)\n",
    "print(waist_circumference_result)\n",
    "print(hip_circumference_result)"
   ]
  },
  {
   "cell_type": "markdown",
   "metadata": {},
   "source": [
    "### Blood Metrics"
   ]
  },
  {
   "cell_type": "code",
   "execution_count": 23,
   "metadata": {},
   "outputs": [
    {
     "name": "stdout",
     "output_type": "stream",
     "text": [
      "Blood pressure systolic: 120. Blood pressure diastolic: 80.\n",
      "Blood glucose: No values ​​were obtained or it is null.\n",
      "Saturation: 97%\n",
      "vo2max: 45.\n"
     ]
    }
   ],
   "source": [
    "blood_glucose = body_summary_file['body_health']['summary']['body_summary']['blood_glucose']['blood_glucose_avg_mg_per_dL_int']\n",
    "blood_pressure = body_summary_file['body_health']['summary']['body_summary']['blood_pressure']['blood_pressure_avg_object']\n",
    "saturation = body_summary_file['body_health']['summary']['body_summary']['oxygenation']['saturation_avg_percentage_int']\n",
    "vo2max = body_summary_file['body_health']['summary']['body_summary']['oxygenation']['vo2max_mL_per_min_per_kg_int']\n",
    "\n",
    "# Blood Pressure\n",
    "if not blood_pressure:\n",
    "    blood_pressure_result = \"Blood Pressure: No values ​​were obtained or it is null.\"\n",
    "\n",
    "else:\n",
    "    blood_pressure_systolic = body_summary_file['body_health']['summary']['body_summary']['blood_pressure']['blood_pressure_avg_object']['systolic_mmHg_int']\n",
    "    blood_pressure_diastolic = body_summary_file['body_health']['summary']['body_summary']['blood_pressure']['blood_pressure_avg_object']['diastolic_mmHg_int']\n",
    "    blood_pressure_result = f'Blood pressure systolic: {blood_pressure_systolic}. Blood pressure diastolic: {blood_pressure_diastolic}.'\n",
    "    \n",
    "# Blood Glucose\n",
    "if blood_glucose is None:\n",
    "    blood_glucose_result = \"Blood glucose: No values ​​were obtained or it is null.\"\n",
    "\n",
    "else:\n",
    "    blood_glucose_result = f'Blood glucose: {blood_glucose}'\n",
    "    \n",
    "# Saturation\n",
    "if saturation is None:\n",
    "    saturation_result = \"Saturation: No values ​​were obtained or it is null.\"\n",
    "    \n",
    "else:\n",
    "    saturation_result = f'Saturation: {saturation}%'\n",
    "    \n",
    "# vo2max\n",
    "if vo2max is None:\n",
    "    vo2max_result = \"vo2max: No values ​​were obtained or it is null.\"\n",
    "\n",
    "else:\n",
    "    vo2max_result = f\"vo2max: {vo2max}.\"\n",
    "    \n",
    "print(blood_pressure_result)\n",
    "print(blood_glucose_result)\n",
    "print(saturation_result)\n",
    "print(vo2max_result)"
   ]
  },
  {
   "cell_type": "markdown",
   "metadata": {},
   "source": [
    "### Hydration"
   ]
  },
  {
   "cell_type": "code",
   "execution_count": 24,
   "metadata": {},
   "outputs": [
    {
     "name": "stdout",
     "output_type": "stream",
     "text": [
      "Hydration: 3300%\n"
     ]
    }
   ],
   "source": [
    "hydration = body_summary_file['body_health']['summary']['body_summary']['hydration']['water_total_consumption_mL_int']\n",
    "\n",
    "# Saturation\n",
    "if hydration is None:\n",
    "    hydration_result = \"Hydration: No values ​​were obtained or it is null.\"\n",
    "    \n",
    "else:\n",
    "    hydration_result = f'Hydration: {hydration}%'\n",
    "    \n",
    "print(hydration_result)"
   ]
  },
  {
   "cell_type": "markdown",
   "metadata": {},
   "source": [
    "### Nutrition"
   ]
  },
  {
   "cell_type": "code",
   "execution_count": 25,
   "metadata": {},
   "outputs": [
    {
     "name": "stdout",
     "output_type": "stream",
     "text": [
      "Calories Intake: 1800.0.\n",
      "Protein Intake: 90.0.\n",
      "Fat Intake: 60.0.\n",
      "Carbohydrates Intake: 220.0.\n"
     ]
    }
   ],
   "source": [
    "calories_intake = body_summary_file['body_health']['summary']['body_summary']['nutrition']['calories_intake_kcal_float']\n",
    "protein_intake = body_summary_file['body_health']['summary']['body_summary']['nutrition']['protein_intake_g_float']\n",
    "fat_intake = body_summary_file['body_health']['summary']['body_summary']['nutrition']['fat_intake_g_float']\n",
    "carbohydrates_intake = body_summary_file['body_health']['summary']['body_summary']['nutrition']['carbohydrates_intake_g_float']\n",
    "\n",
    "# Calories\n",
    "if calories_intake is None:\n",
    "    calories_intake_result = \"Calories Intake: No values ​​were obtained or it is null.\"\n",
    "    \n",
    "else:\n",
    "    calories_intake_result = f'Calories Intake: {calories_intake}.'\n",
    "\n",
    "# Protein\n",
    "if protein_intake is None:\n",
    "    protein_intake_result = \"Protein Intake: No values ​​were obtained or it is null.\"\n",
    "    \n",
    "else:\n",
    "    protein_intake_result = f'Protein Intake: {protein_intake}.'\n",
    "\n",
    "# Fat\n",
    "if fat_intake is None:\n",
    "    fat_intake_result = \"Fat Intake: No values ​​were obtained or it is null.\"\n",
    "    \n",
    "else:\n",
    "    fat_intake_result = f'Fat Intake: {fat_intake}.'\n",
    "\n",
    "# Carbohydrates\n",
    "if carbohydrates_intake is None:\n",
    "    carbohydrates_intake_result = \"Carbohydrates Intake: No values ​​were obtained or it is null.\"\n",
    "    \n",
    "else:\n",
    "    carbohydrates_intake_result = f'Carbohydrates Intake: {carbohydrates_intake}.'\n",
    "    \n",
    "print(calories_intake_result)\n",
    "print(protein_intake_result)\n",
    "print(fat_intake_result)\n",
    "print(carbohydrates_intake_result)"
   ]
  },
  {
   "cell_type": "markdown",
   "metadata": {},
   "source": [
    "## Sleep Summary"
   ]
  },
  {
   "cell_type": "markdown",
   "metadata": {},
   "source": [
    "### Sleep Duration"
   ]
  },
  {
   "cell_type": "code",
   "execution_count": 26,
   "metadata": {},
   "outputs": [
    {
     "name": "stdout",
     "output_type": "stream",
     "text": [
      "Sleep Start: june 17, 2024 at 22:23\n",
      "Sleep End: june 18, 2024 at 05:00\n",
      "Duration: 22470.\n"
     ]
    }
   ],
   "source": [
    "sleep_start = sleep_summary_file['sleep_health']['summary']['sleep_summary']['duration']['sleep_start_datetime_string']\n",
    "sleep_end = sleep_summary_file['sleep_health']['summary']['sleep_summary']['duration']['sleep_end_datetime_string']\n",
    "sleep_duration = sleep_summary_file['sleep_health']['summary']['sleep_summary']['duration']['sleep_duration_seconds_int']\n",
    "time_in_bed = sleep_summary_file['sleep_health']['summary']['sleep_summary']['duration']['time_in_bed_seconds_int']\n",
    "\n",
    "def translate_date(fecha_str):\n",
    "    month = [\"january\", \"february\", \"march\", \"april\", \"may\", \"june\", \"july\", \"august\", \"september\", \"october\", \"november\", \"december\"]\n",
    "    dt = datetime.fromisoformat(fecha_str.replace(\"Z\", \"+00:00\"))\n",
    "    return f\"{month[dt.month - 1]} {dt.day}, {dt.year} at {dt.hour:02d}:{dt.minute:02d}\"\n",
    "\n",
    "# Start Sleep\n",
    "if sleep_start is None:\n",
    "    sleep_start_result = \"Sleep start: No values ​​were obtained or it is null.\"\n",
    "else:\n",
    "    sleep_start_translate = translate_date(sleep_start)\n",
    "    sleep_start_result = f'Sleep Start: {sleep_start_translate}'\n",
    "\n",
    "# End Sleep   \n",
    "if sleep_end is None:\n",
    "    sleep_end_result = \"Sleep send: No values ​​were obtained or it is null.\"\n",
    "else:\n",
    "    sleep_end_translate = translate_date(sleep_end)\n",
    "    sleep_end_result = f\"Sleep End: {sleep_end_translate}\"\n",
    "    \n",
    "#Duration\n",
    "if sleep_duration is None or sleep_duration == 0 and time_in_bed > 0:\n",
    "    time_in_bed_HHMMSS = str(timedelta(seconds=time_in_bed))\n",
    "    sleep_duration_result = f\"Time in bed: {time_in_bed_HHMMSS}\"\n",
    "    \n",
    "elif sleep_duration is None or sleep_duration == 0:\n",
    "    sleep_duration_result = \"Duration: No values ​​were obtained or it is null.\"\n",
    "\n",
    "else:\n",
    "    sleep_duration_HHMMSS = str(timedelta(seconds=sleep_duration))\n",
    "    sleep_duration_result = f'Duration: {sleep_duration}.'\n",
    "    \n",
    "    \n",
    "print(sleep_start_result)\n",
    "print(sleep_end_result)\n",
    "print(sleep_duration_result)"
   ]
  },
  {
   "cell_type": "markdown",
   "metadata": {},
   "source": [
    "### Quality of Sleep"
   ]
  },
  {
   "cell_type": "code",
   "execution_count": 27,
   "metadata": {},
   "outputs": [
    {
     "name": "stdout",
     "output_type": "stream",
     "text": [
      "Sleep Quality: No values ​​were obtained or it is null.\n",
      "Breathings: 14.\n",
      "HRV: No values ​​were obtained or it is null.\n"
     ]
    }
   ],
   "source": [
    "sleep_quality = sleep_summary_file['sleep_health']['summary']['sleep_summary']['scores']['sleep_quality_rating_1_5_score_int']\n",
    "breathing_sleep = sleep_summary_file['sleep_health']['summary']['sleep_summary']['breathing']['breaths_avg_per_min_int']\n",
    "hrv_sleep = sleep_summary_file['sleep_health']['summary']['sleep_summary']['heart_rate']['hrv_avg_sdnn_float']\n",
    "\n",
    "# Sleep quality\n",
    "if sleep_quality is None:\n",
    "    sleep_quality_result = \"Sleep Quality: No values ​​were obtained or it is null.\"\n",
    "else:\n",
    "    sleep_quality_result = f'Sleep Quality: {sleep_quality}.'\n",
    "    \n",
    "# Sleep breathings\n",
    "if breathing_sleep is None:\n",
    "    breathing_sleep_result = \"Breathing: No values ​​were obtained or it is null.\"\n",
    "else:\n",
    "    breathing_sleep_result = f'Breathings: {breathing_sleep}.'\n",
    "    \n",
    "# HRV\n",
    "if hrv_sleep is None:\n",
    "    hrv_sleep_result = \"HRV: No values ​​were obtained or it is null.\"\n",
    "else:\n",
    "    hrv_sleep_result = f'HRV: {hrv_sleep}'\n",
    "    \n",
    "print(sleep_quality_result)\n",
    "print(breathing_sleep_result)\n",
    "print(hrv_sleep_result)"
   ]
  },
  {
   "cell_type": "markdown",
   "metadata": {},
   "source": [
    "### Heart Rate During Sleep"
   ]
  },
  {
   "cell_type": "code",
   "execution_count": 28,
   "metadata": {},
   "outputs": [
    {
     "name": "stdout",
     "output_type": "stream",
     "text": [
      "Heart Rate Average: 56 bpm.\n",
      "Heart Rate Maximum: 64 bpm.\n",
      "Heart Rate Minimum: 48 bpm.\n"
     ]
    }
   ],
   "source": [
    "hr_avg_sleep = sleep_summary_file['sleep_health']['summary']['sleep_summary']['heart_rate']['hr_avg_bpm_int']\n",
    "hr_maximum_sleep = sleep_summary_file['sleep_health']['summary']['sleep_summary']['heart_rate']['hr_maximum_bpm_int']\n",
    "hr_minimum_sleep = sleep_summary_file['sleep_health']['summary']['sleep_summary']['heart_rate']['hr_minimum_bpm_int']\n",
    "\n",
    "# HR avg\n",
    "if hr_avg_sleep is None:\n",
    "    hr_avg_sleep_result = \"Heart Rate Average: No values ​​were obtained or it is null.\"\n",
    "else:\n",
    "    hr_avg_sleep_result = f'Heart Rate Average: {hr_avg_sleep} bpm.'\n",
    "\n",
    "# HR maximum\n",
    "if hr_maximum_sleep is None:\n",
    "    hr_maximum_sleep_result = \"Heart Rate Maximum: No values ​​were obtained or it is null.\"\n",
    "else:\n",
    "    hr_maximum_sleep_result = f'Heart Rate Maximum: {hr_maximum_sleep} bpm.'\n",
    "    \n",
    "# HR minimum\n",
    "if hr_minimum_sleep is None:\n",
    "    hr_minimum_sleep_result = \"Heart Rate Minimum: No values ​​were obtained or it is null.\"\n",
    "else:\n",
    "    hr_minimum_sleep_result = f'Heart Rate Minimum: {hr_minimum_sleep} bpm.'\n",
    "\n",
    "print(hr_avg_sleep_result)\n",
    "print(hr_maximum_sleep_result)\n",
    "print(hr_minimum_sleep_result)"
   ]
  },
  {
   "cell_type": "markdown",
   "metadata": {},
   "source": [
    "## Phisycal Summary"
   ]
  },
  {
   "cell_type": "markdown",
   "metadata": {},
   "source": [
    "### Summary"
   ]
  },
  {
   "cell_type": "code",
   "execution_count": 29,
   "metadata": {},
   "outputs": [
    {
     "name": "stdout",
     "output_type": "stream",
     "text": [
      "Active Time: 200:23\n",
      "Daily Steps: 10580 steps.\n",
      "Calories Burned: 266.0 kcal.\n",
      "Distance Traveled: 8.009 km.\n"
     ]
    }
   ],
   "source": [
    "active_time = physical_summary_file['physical_health']['summary']['physical_summary']['activity']['active_seconds_int']\n",
    "daily_steps = physical_summary_file['physical_health']['summary']['physical_summary']['distance']['steps_int']\n",
    "daily_calories = physical_summary_file['physical_health']['summary']['physical_summary']['calories']['calories_net_active_kcal_float']\n",
    "daily_distance = physical_summary_file['physical_health']['summary']['physical_summary']['distance']['traveled_distance_meters_float']\n",
    "\n",
    "# Active Time\n",
    "if active_time is None:\n",
    "    active_time_result = \"Active Time: No values ​​were obtained or it is null.\"\n",
    "    \n",
    "else:\n",
    "    active_time_minutes = active_time // 60\n",
    "    active_time_seconds = active_time % 60\n",
    "    active_time_result = f\"Active Time: {active_time_minutes}:{active_time_seconds}\"\n",
    "    \n",
    "# Daily Steps\n",
    "if daily_steps is None:\n",
    "    daily_steps_result = \"Daily Steps: No values ​​were obtained or it is null.\"\n",
    "    \n",
    "else:\n",
    "    daily_steps_result = f\"Daily Steps: {daily_steps} steps.\"\n",
    "    \n",
    "# Daily Calories\n",
    "if daily_calories is None:\n",
    "    daily_calories_result = \"Calories Burned: No values ​​were obtained or it is null.\"\n",
    "    \n",
    "else:\n",
    "    daily_calories_result = f\"Calories Burned: {daily_calories} kcal.\"\n",
    "    \n",
    "# Daily Distance\n",
    "if daily_distance is None:\n",
    "    daily_distance_result = \"Distance Traveled: No values ​​were obtained or it is null.\"\n",
    "    \n",
    "else:\n",
    "    daily_distance_km = round(daily_distance / 1000, 3)\n",
    "    daily_distance_result = f\"Distance Traveled: {daily_distance_km} km.\"\n",
    "    \n",
    "print(active_time_result)\n",
    "print(daily_steps_result)\n",
    "print(daily_calories_result)\n",
    "print(daily_distance_result)"
   ]
  },
  {
   "cell_type": "markdown",
   "metadata": {},
   "source": [
    "### Heart Rate"
   ]
  },
  {
   "cell_type": "code",
   "execution_count": 30,
   "metadata": {},
   "outputs": [
    {
     "name": "stdout",
     "output_type": "stream",
     "text": [
      "Heart Rate Average: 71 bpm.\n",
      "Heart Rate Maximus: 114 bpm.\n",
      "Heart Rate Minimus: 45 bpm.\n"
     ]
    }
   ],
   "source": [
    "hr_avg_physical_summary = physical_summary_file['physical_health']['summary']['physical_summary']['heart_rate']['hr_avg_bpm_int']\n",
    "hr_max_physical_summary = physical_summary_file['physical_health']['summary']['physical_summary']['heart_rate']['hr_maximum_bpm_int']\n",
    "hr_min_physical_summary = physical_summary_file['physical_health']['summary']['physical_summary']['heart_rate']['hr_minimum_bpm_int']\n",
    "\n",
    "# HR avg\n",
    "if hr_avg_physical_summary is None:\n",
    "    hr_avg_physical_summary_result = \"Heart Rate Average: No values ​​were obtained or it is null.\"\n",
    "else:\n",
    "    hr_avg_physical_summary_result = f'Heart Rate Average: {hr_avg_physical_summary} bpm.'\n",
    "\n",
    "# HR maximus\n",
    "if hr_max_physical_summary is None:\n",
    "    hr_max_physical_summary_result = \"Heart Rate Maximus: No values ​​were obtained or it is null.\"\n",
    "else:\n",
    "    hr_max_physical_summary_result = f'Heart Rate Maximus: {hr_max_physical_summary} bpm.'\n",
    "    \n",
    "# HR minimus\n",
    "if hr_min_physical_summary is None:\n",
    "    hr_min_physical_summary_result = \"Heart Rate Minimus: No values ​​were obtained or it is null.\"\n",
    "else:\n",
    "    hr_min_physical_summary_result = f'Heart Rate Minimus: {hr_min_physical_summary} bpm.'\n",
    "\n",
    "print(hr_avg_physical_summary_result)\n",
    "print(hr_max_physical_summary_result)\n",
    "print(hr_min_physical_summary_result)"
   ]
  },
  {
   "cell_type": "markdown",
   "metadata": {},
   "source": [
    "### Intensity Levels"
   ]
  },
  {
   "cell_type": "code",
   "execution_count": 31,
   "metadata": {},
   "outputs": [
    {
     "name": "stdout",
     "output_type": "stream",
     "text": [
      "  Intensity Level Total Time (HH:MM:SS)  Percentage (%)\n",
      "0            rest              14:21:00           98.18\n",
      "1             low               0:16:00            1.82\n",
      "2        moderate               0:00:00            0.00\n",
      "3        vigorous               0:00:00            0.00\n"
     ]
    }
   ],
   "source": [
    "hr_data_physical_summary = physical_summary_file['physical_health']['summary']['physical_summary']['heart_rate']['hr_granular_data_array']\n",
    "activity_start_physical_summary = datetime.fromisoformat(physical_summary_file['physical_health']['summary']['physical_summary']['metadata']['datetime_string'])\n",
    "\n",
    "# Define the HR max and intensity categories\n",
    "age = 20\n",
    "hr_max = 220 - age\n",
    "intensity_levels = [\n",
    "    ('rest', 0, 0.5 * hr_max),\n",
    "    ('low', 0.5 * hr_max, 0.6667 * hr_max),\n",
    "    ('moderate', 0.6667 * hr_max, 0.8333 * hr_max),\n",
    "    ('vigorous', 0.8333 * hr_max, hr_max)\n",
    "]\n",
    "\n",
    "# Initialize the intensity counters\n",
    "intensity_durations = {level: 0 for level, _, _ in intensity_levels}\n",
    "\n",
    "# Calculate durations and categorize\n",
    "previous_datetime = activity_start_physical_summary\n",
    "for entry in hr_data_physical_summary:\n",
    "    current_datetime = datetime.fromisoformat(entry['datetime_string'])\n",
    "    hr_bpm = entry['hr_bpm_int']\n",
    "    \n",
    "    # Calculate the time difference from the previous entry\n",
    "    duration = (current_datetime - previous_datetime).total_seconds()\n",
    "    \n",
    "    # Categorize the HR bpm\n",
    "    for level, lower_bound, upper_bound in intensity_levels:\n",
    "        if lower_bound <= hr_bpm < upper_bound:\n",
    "            intensity_durations[level] += duration\n",
    "            break\n",
    "    \n",
    "    previous_datetime = current_datetime\n",
    "\n",
    "# Calculate total duration\n",
    "total_duration = sum(intensity_durations.values())\n",
    "\n",
    "# Calculate the percentage of time spent in each intensity level\n",
    "intensity_percentages_rounded = {level: round((duration / total_duration) * 100, 2) for level, duration in intensity_durations.items()}\n",
    "\n",
    "# Create the final result with the total time in each level and the percentages\n",
    "intensity_durations_hms = {level: str(timedelta(seconds=int(duration))) for level, duration in intensity_durations.items()}\n",
    "\n",
    "# Create a DataFrame to present the results\n",
    "df_result = pd.DataFrame({\n",
    "    'Intensity Level': intensity_durations.keys(),\n",
    "    'Total Time (HH:MM:SS)': intensity_durations_hms.values(),\n",
    "    'Percentage (%)': intensity_percentages_rounded.values()\n",
    "})\n",
    "\n",
    "# Show the DataFrame\n",
    "print(df_result)"
   ]
  },
  {
   "cell_type": "markdown",
   "metadata": {},
   "source": [
    "## Activity Event"
   ]
  },
  {
   "cell_type": "markdown",
   "metadata": {},
   "source": [
    "### Summary of Event"
   ]
  },
  {
   "cell_type": "code",
   "execution_count": 32,
   "metadata": {},
   "outputs": [
    {
     "name": "stdout",
     "output_type": "stream",
     "text": [
      "Activity Type: Running.\n",
      "Activity Start: june 13, 2024 at 19:33\n",
      "Activity Duration: 57:4\n"
     ]
    }
   ],
   "source": [
    "activity_type = physical_event_file['physical_health']['events']['activity_event'][0]['activity']['activity_type_name_string']\n",
    "activity_start_datetime = physical_event_file['physical_health']['events']['activity_event'][0]['activity']['activity_start_datetime_string']\n",
    "activity_duration = physical_event_file['physical_health']['events']['activity_event'][0]['activity']['activity_duration_seconds_int']\n",
    "\n",
    "def translate_date(fecha_str):\n",
    "    month = [\"january\", \"february\", \"march\", \"april\", \"may\", \"june\", \"july\", \"august\", \"september\", \"october\", \"november\", \"december\"]\n",
    "    dt = datetime.fromisoformat(fecha_str.replace(\"Z\", \"+00:00\"))\n",
    "    return f\"{month[dt.month - 1]} {dt.day}, {dt.year} at {dt.hour:02d}:{dt.minute:02d}\"\n",
    "\n",
    "# Activity type\n",
    "if activity_type is None:\n",
    "    activity_type_result = \"Activity Type: No values ​​were obtained or it is null.\"  \n",
    "else:\n",
    "    activity_type_result = f'Activity Type: {activity_type}.'\n",
    "\n",
    "# Activity start datetime\n",
    "if activity_start_datetime is None:\n",
    "    activity_start_datetime_result = \"Start Time: No values ​​were obtained or it is null.\"\n",
    "else:\n",
    "    activity_start_datetime_translate = translate_date(activity_start_datetime)\n",
    "    activity_start_datetime_result = f'Activity Start: {activity_start_datetime_translate}'\n",
    "\n",
    "# Activity duration\n",
    "if activity_duration is None:\n",
    "    activity_duration_result = \"Activity Duration: No values ​​were obtained or it is null.\"\n",
    "else:\n",
    "    activity_duration_minutes = activity_duration // 60\n",
    "    activity_duration_seconds = activity_duration % 60\n",
    "    activity_duration_result = f\"Activity Duration: {activity_duration_minutes}:{activity_duration_seconds}\"\n",
    "\n",
    "print(activity_type_result)\n",
    "print(activity_start_datetime_result)\n",
    "print(activity_duration_result)"
   ]
  },
  {
   "cell_type": "code",
   "execution_count": 33,
   "metadata": {},
   "outputs": [
    {
     "name": "stdout",
     "output_type": "stream",
     "text": [
      "Steps: 6450 steps.\n",
      "Calories Burned: 298.0 kcal.\n",
      "Distance Traveled: 4.775 km.\n"
     ]
    }
   ],
   "source": [
    "steps_activity_event = physical_event_file['physical_health']['events']['activity_event'][0]['distance']['steps_int']\n",
    "calories_activity_event = physical_event_file['physical_health']['events']['activity_event'][0]['calories']['calories_net_active_kcal_float']\n",
    "distance_activity_event = physical_event_file['physical_health']['events']['activity_event'][0]['distance']['traveled_distance_meters_float']\n",
    "  \n",
    "# Steps\n",
    "if steps_activity_event is None:\n",
    "    steps_activity_event_result = \"Steps: No values ​​were obtained or it is null.\"\n",
    "    \n",
    "else:\n",
    "    steps_activity_event_result = f\"Steps: {steps_activity_event} steps.\"\n",
    "    \n",
    "# Calories\n",
    "if calories_activity_event is None:\n",
    "    calories_activity_event_result = \"Calories Burned: No values ​​were obtained or it is null.\"\n",
    "    \n",
    "else:\n",
    "    calories_activity_event_result = f\"Calories Burned: {calories_activity_event} kcal.\"\n",
    "    \n",
    "# Distance\n",
    "if distance_activity_event is None:\n",
    "    distance_activity_event_result = \"Distance Traveled: No values ​​were obtained or it is null.\"\n",
    "    \n",
    "else:\n",
    "    distance_activity_event_km = round(distance_activity_event / 1000, 3)\n",
    "    distance_activity_event_result = f\"Distance Traveled: {distance_activity_event_km} km.\"\n",
    "    \n",
    "print(steps_activity_event_result)\n",
    "print(calories_activity_event_result)\n",
    "print(distance_activity_event_result)"
   ]
  },
  {
   "cell_type": "markdown",
   "metadata": {},
   "source": [
    "### Heart Rate during Activity Event"
   ]
  },
  {
   "cell_type": "code",
   "execution_count": 34,
   "metadata": {},
   "outputs": [
    {
     "name": "stdout",
     "output_type": "stream",
     "text": [
      "Heart Rate Average: 96 bpm.\n",
      "Heart Rate Maximus: 120 bpm.\n",
      "Heart Rate Minimus: No values ​​were obtained or it is null.\n"
     ]
    }
   ],
   "source": [
    "hr_avg_activity_event = physical_event_file['physical_health']['events']['activity_event'][0]['heart_rate']['hr_avg_bpm_int']\n",
    "hr_max_activity_event = physical_event_file['physical_health']['events']['activity_event'][0]['heart_rate']['hr_maximum_bpm_int']\n",
    "hr_min_activity_event = physical_event_file['physical_health']['events']['activity_event'][0]['heart_rate']['hr_minimum_bpm_int']\n",
    "\n",
    "# HR avg\n",
    "if hr_avg_activity_event is None:\n",
    "    hr_avg_activity_event_result = \"Heart Rate Average: No values ​​were obtained or it is null.\"\n",
    "else:\n",
    "    hr_avg_activity_event_result = f'Heart Rate Average: {hr_avg_activity_event} bpm.'\n",
    "\n",
    "# HR maximus\n",
    "if hr_max_activity_event is None:\n",
    "    hr_max_activity_event_result = \"Heart Rate Maximus: No values ​​were obtained or it is null.\"\n",
    "else:\n",
    "    hr_max_activity_event_result = f'Heart Rate Maximus: {hr_max_activity_event} bpm.'\n",
    "    \n",
    "# HR minimus\n",
    "if hr_min_activity_event is None:\n",
    "    hr_min_activity_event_result = \"Heart Rate Minimus: No values ​​were obtained or it is null.\"\n",
    "else:\n",
    "    hr_min_activity_event_result = f'Heart Rate Minimus: {hr_min_activity_event} bpm.'\n",
    "\n",
    "print(hr_avg_activity_event_result)\n",
    "print(hr_max_activity_event_result)\n",
    "print(hr_min_activity_event_result)"
   ]
  },
  {
   "cell_type": "code",
   "execution_count": 35,
   "metadata": {},
   "outputs": [
    {
     "data": {
      "image/png": "[encoded data removed]",
      "text/plain": [
       "<Figure size 1200x600 with 1 Axes>"
      ]
     },
     "metadata": {},
     "output_type": "display_data"
    }
   ],
   "source": [
    "hr_granular_activity_event = physical_event_file['physical_health']['events']['activity_event'][0]['heart_rate']['hr_granular_data_array']\n",
    "\n",
    "# Prepare data for plotting\n",
    "datetimes = [datetime.fromisoformat(item['datetime_string']) for item in hr_granular_activity_event]\n",
    "heart_rates = [item['hr_bpm_int'] for item in hr_granular_activity_event]\n",
    "\n",
    "# Plot the data\n",
    "plt.figure(figsize=(12, 6))\n",
    "plt.plot(datetimes, heart_rates, linestyle='-')\n",
    "plt.title('Heart Rate Over Time')\n",
    "plt.xlabel('Time')\n",
    "plt.ylabel('Heart Rate (bpm)')\n",
    "plt.grid(True)\n",
    "plt.xticks(rotation=45)\n",
    "plt.tight_layout()\n",
    "plt.show()"
   ]
  },
  {
   "cell_type": "markdown",
   "metadata": {},
   "source": [
    "### Intensity level"
   ]
  },
  {
   "cell_type": "code",
   "execution_count": 36,
   "metadata": {},
   "outputs": [
    {
     "name": "stdout",
     "output_type": "stream",
     "text": [
      "  Intensity Level Total Time (HH:MM:SS)  Percentage (%)\n",
      "0            rest               0:41:41           73.21\n",
      "1             low               0:15:15           26.79\n",
      "2        moderate               0:00:00            0.00\n",
      "3        vigorous               0:00:00            0.00\n"
     ]
    }
   ],
   "source": [
    "hr_data = physical_event_file['physical_health']['events']['activity_event'][0]['heart_rate']['hr_granular_data_array']\n",
    "activity_start = datetime.fromisoformat(physical_event_file['physical_health']['events']['activity_event'][0]['activity']['activity_start_datetime_string'])\n",
    "\n",
    "# Define the HR max and intensity categories\n",
    "age = 20\n",
    "hr_max = 220 - age\n",
    "intensity_levels = [\n",
    "    ('rest', 0, 0.5 * hr_max),\n",
    "    ('low', 0.5 * hr_max, 0.6667 * hr_max),\n",
    "    ('moderate', 0.6667 * hr_max, 0.8333 * hr_max),\n",
    "    ('vigorous', 0.8333 * hr_max, hr_max)\n",
    "]\n",
    "\n",
    "# Initialize the intensity counters\n",
    "intensity_durations = {level: 0 for level, _, _ in intensity_levels}\n",
    "\n",
    "# Calculate durations and categorize\n",
    "previous_datetime = activity_start\n",
    "for entry in hr_data:\n",
    "    current_datetime = datetime.fromisoformat(entry['datetime_string'])\n",
    "    hr_bpm = entry['hr_bpm_int']\n",
    "    \n",
    "    # Calculate the time difference from the previous entry\n",
    "    duration = (current_datetime - previous_datetime).total_seconds()\n",
    "    \n",
    "    # Categorize the HR bpm\n",
    "    for level, lower_bound, upper_bound in intensity_levels:\n",
    "        if lower_bound <= hr_bpm < upper_bound:\n",
    "            intensity_durations[level] += duration\n",
    "            break\n",
    "    \n",
    "    previous_datetime = current_datetime\n",
    "\n",
    "# Calculate total duration\n",
    "total_duration = sum(intensity_durations.values())\n",
    "\n",
    "# Calculate the percentage of time spent in each intensity level\n",
    "intensity_percentages_rounded = {level: round((duration / total_duration) * 100, 2) for level, duration in intensity_durations.items()}\n",
    "\n",
    "# Create the final result with the total time in each level and the percentages\n",
    "intensity_durations_hms = {level: str(timedelta(seconds=int(duration))) for level, duration in intensity_durations.items()}\n",
    "\n",
    "\n",
    "# Create a DataFrame to present the results\n",
    "df_result = pd.DataFrame({\n",
    "    'Intensity Level': intensity_durations.keys(),\n",
    "    'Total Time (HH:MM:SS)': intensity_durations_hms.values(),\n",
    "    'Percentage (%)': intensity_percentages_rounded.values()\n",
    "})\n",
    "\n",
    "# Show the DataFrame\n",
    "print(df_result)"
   ]
  }
 ],
 "metadata": {
  "kernelspec": {
   "display_name": "Python 3",
   "language": "python",
   "name": "python3"
  },
  "language_info": {
   "codemirror_mode": {
    "name": "ipython",
    "version": 3
   },
   "file_extension": ".py",
   "mimetype": "text/x-python",
   "name": "python",
   "nbconvert_exporter": "python",
   "pygments_lexer": "ipython3",
   "version": "3.12.4"
  }
 },
 "nbformat": 4,
 "nbformat_minor": 2
}
